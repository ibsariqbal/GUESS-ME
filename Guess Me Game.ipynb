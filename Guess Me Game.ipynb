{
 "cells": [
  {
   "cell_type": "code",
   "execution_count": 14,
   "id": "69dd7fe4",
   "metadata": {},
   "outputs": [],
   "source": [
    "import random\n",
    "\n",
    "num = random.randint(1,100)"
   ]
  },
  {
   "cell_type": "code",
   "execution_count": 15,
   "id": "e5dc6f3c",
   "metadata": {},
   "outputs": [
    {
     "name": "stdout",
     "output_type": "stream",
     "text": [
      "WELCOME TO GUESS ME!\n",
      "I'm thinking of a number between 1 and 100\n",
      "If your guess is more than 10 away from my number, I'll tell you you're COLD\n",
      "If your guess is within 10 of my number, I'll tell you you're WARM\n",
      "If your guess is farther than your most recent guess, I'll say you're getting COLDER\n",
      "If your guess is closer than your most recent guess, I'll say you're getting WARMER\n",
      "LET'S PLAY!\n"
     ]
    }
   ],
   "source": [
    "print(\"WELCOME TO GUESS ME!\")\n",
    "print(\"I'm thinking of a number between 1 and 100\")\n",
    "print(\"If your guess is more than 10 away from my number, I'll tell you you're COLD\")\n",
    "print(\"If your guess is within 10 of my number, I'll tell you you're WARM\")\n",
    "print(\"If your guess is farther than your most recent guess, I'll say you're getting COLDER\")\n",
    "print(\"If your guess is closer than your most recent guess, I'll say you're getting WARMER\")\n",
    "print(\"LET'S PLAY!\")"
   ]
  },
  {
   "cell_type": "code",
   "execution_count": 16,
   "id": "c1de08f7",
   "metadata": {},
   "outputs": [],
   "source": [
    "guesses = [0]"
   ]
  },
  {
   "cell_type": "code",
   "execution_count": 18,
   "id": "8a200a17",
   "metadata": {},
   "outputs": [
    {
     "name": "stdout",
     "output_type": "stream",
     "text": [
      "Think of number between 1 and 100.\n",
      "What is you quess? : 50\n",
      "COOL\n",
      "Think of number between 1 and 100.\n",
      "What is you quess? : 75\n",
      "WARMER!\n",
      "Think of number between 1 and 100.\n",
      "What is you quess? : 25\n",
      "COOLER!\n",
      "Think of number between 1 and 100.\n",
      "What is you quess? : 85\n",
      "WARMER!\n",
      "Think of number between 1 and 100.\n",
      "What is you quess? : 90\n",
      "WARMER!\n",
      "Think of number between 1 and 100.\n",
      "What is you quess? : 93\n",
      "CONGRATULATIONS! YOU GUESSED IT IN ONLY 6 GUESSES!!\n"
     ]
    }
   ],
   "source": [
    "while True:\n",
    "    \n",
    "    guess = int(input(\"Think of number between 1 and 100.\\nWhat is you quess? : \"))\n",
    "    \n",
    "    if guess < 1 or guess >100:\n",
    "        print (\"Your guess number is out of bound. Please try again.\")\n",
    "        continue\n",
    "        \n",
    "    if guess == num:\n",
    "        print(f\"CONGRATULATIONS! YOU GUESSED IT IN ONLY {len(guesses)} GUESSES!!\")\n",
    "        break\n",
    "    \n",
    "    guesses.append(guess)\n",
    "    \n",
    "    if guesses[-2]:\n",
    "        if abs(num - guess) < abs(num - guesses[-2]):\n",
    "            print('WARMER!')\n",
    "        else:\n",
    "            print('COOLER!')\n",
    "            \n",
    "    else:\n",
    "        if abs(num - guess) <= 10:\n",
    "            print('WARM')\n",
    "        else:\n",
    "            print('COOL')"
   ]
  },
  {
   "cell_type": "code",
   "execution_count": 17,
   "id": "d992fd95",
   "metadata": {},
   "outputs": [
    {
     "data": {
      "text/plain": [
       "93"
      ]
     },
     "execution_count": 17,
     "metadata": {},
     "output_type": "execute_result"
    }
   ],
   "source": [
    "num"
   ]
  },
  {
   "cell_type": "code",
   "execution_count": null,
   "id": "537b623a",
   "metadata": {},
   "outputs": [],
   "source": []
  }
 ],
 "metadata": {
  "kernelspec": {
   "display_name": "Python 3 (ipykernel)",
   "language": "python",
   "name": "python3"
  },
  "language_info": {
   "codemirror_mode": {
    "name": "ipython",
    "version": 3
   },
   "file_extension": ".py",
   "mimetype": "text/x-python",
   "name": "python",
   "nbconvert_exporter": "python",
   "pygments_lexer": "ipython3",
   "version": "3.9.7"
  }
 },
 "nbformat": 4,
 "nbformat_minor": 5
}
